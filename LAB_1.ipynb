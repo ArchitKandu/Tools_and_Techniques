{
  "nbformat": 4,
  "nbformat_minor": 0,
  "metadata": {
    "colab": {
      "provenance": [],
      "collapsed_sections": [
        "BJbcmHzHHqIQ",
        "hSsKxoPWIQPc",
        "3UvafDhvIjQM",
        "9yJZ3FL4I8kV",
        "QDddSwaTJFpz",
        "Ae29Sk8EJa08",
        "hbMaXHcPJoT5",
        "Brr5PEuZJ8Dm",
        "x1Ziqz9kKKix",
        "zJRPQ6s_KffK"
      ],
      "toc_visible": true,
      "authorship_tag": "ABX9TyPFp1QNMCqgNDiZnmLoZSaV",
      "include_colab_link": true
    },
    "kernelspec": {
      "name": "python3",
      "display_name": "Python 3"
    },
    "language_info": {
      "name": "python"
    }
  },
  "cells": [
    {
      "cell_type": "markdown",
      "metadata": {
        "id": "view-in-github",
        "colab_type": "text"
      },
      "source": [
        "<a href=\"https://colab.research.google.com/github/ArchitKandu/Tools_and_Techniques/blob/main/LAB_1.ipynb\" target=\"_parent\"><img src=\"https://colab.research.google.com/assets/colab-badge.svg\" alt=\"Open In Colab\"/></a>"
      ]
    },
    {
      "cell_type": "markdown",
      "source": [
        "# QUES-1\n"
      ],
      "metadata": {
        "id": "BJbcmHzHHqIQ"
      }
    },
    {
      "cell_type": "code",
      "source": [
        "# WAP to display your name, rollno, age and hometown\n",
        "print('\\nName: Archit Kandu')\n",
        "print('RollNo.: 20051924')\n",
        "print('Age: 19')\n",
        "print('Hometown: Bhairahawa, Nepal\\n')"
      ],
      "metadata": {
        "colab": {
          "base_uri": "https://localhost:8080/"
        },
        "id": "Qvc_LuKFH0qu",
        "outputId": "1ca3bb99-7cd4-4945-997b-63b7ad71fa14"
      },
      "execution_count": 1,
      "outputs": [
        {
          "output_type": "stream",
          "name": "stdout",
          "text": [
            "\n",
            "Name: Archit Kandu\n",
            "RollNo.: 20051924\n",
            "Age: 19\n",
            "Hometown: Bhairahawa, Nepal\n",
            "\n"
          ]
        }
      ]
    },
    {
      "cell_type": "markdown",
      "source": [
        "# QUES-2\n"
      ],
      "metadata": {
        "id": "hSsKxoPWIQPc"
      }
    },
    {
      "cell_type": "code",
      "source": [
        "# WAP to check if 'AM' is present in 'I AM A STUDENT OF KIIT UNIVERSITY'\n",
        "string = \"I AM A STUDENT OF KIIT UNIVERSITY\"\n",
        "result = string.find('AM')\n",
        "if result != -1:\n",
        "    print('\\nAM is Present\\n')\n",
        "else:\n",
        "    print('\\nAM is not Present\\n')"
      ],
      "metadata": {
        "colab": {
          "base_uri": "https://localhost:8080/"
        },
        "id": "WZyISA52IWrB",
        "outputId": "9d47ecaf-4a4b-4064-f9b6-ac7c2dfb8e01"
      },
      "execution_count": 2,
      "outputs": [
        {
          "output_type": "stream",
          "name": "stdout",
          "text": [
            "\n",
            "AM is Present\n",
            "\n"
          ]
        }
      ]
    },
    {
      "cell_type": "markdown",
      "source": [
        "# QUES-3"
      ],
      "metadata": {
        "id": "3UvafDhvIjQM"
      }
    },
    {
      "cell_type": "code",
      "source": [
        "# WAP to find curved surface area of cylinder\n",
        "r = int(input('\\nEnter radius: '))\n",
        "h = int(input('Enter height: '))\n",
        "csa = 2*(22/7)*r*h\n",
        "print('CSA of cylinder is: ',csa, 'square units\\n')"
      ],
      "metadata": {
        "colab": {
          "base_uri": "https://localhost:8080/"
        },
        "id": "mvl_SnBSIn9P",
        "outputId": "fcb1fce1-6b65-4211-850f-104c88c0647b"
      },
      "execution_count": 3,
      "outputs": [
        {
          "output_type": "stream",
          "name": "stdout",
          "text": [
            "\n",
            "Enter radius: 7\n",
            "Enter height: 2\n",
            "CSA of cylinder is:  88.0 square units\n",
            "\n"
          ]
        }
      ]
    },
    {
      "cell_type": "markdown",
      "source": [
        "# QUES-4"
      ],
      "metadata": {
        "id": "9yJZ3FL4I8kV"
      }
    },
    {
      "cell_type": "code",
      "source": [
        "# WAP to slice a given string from 9 to 13 (HOCKEY WORLDCUP)\n",
        "string1 = 'HOCKEY WORLDCUP'\n",
        "print(string1[9:13],'\\n')"
      ],
      "metadata": {
        "colab": {
          "base_uri": "https://localhost:8080/"
        },
        "id": "A952YVqIJALH",
        "outputId": "a4b9381e-9e7d-4ff3-8b92-9444d0ba1823"
      },
      "execution_count": 4,
      "outputs": [
        {
          "output_type": "stream",
          "name": "stdout",
          "text": [
            "RLDC \n",
            "\n"
          ]
        }
      ]
    },
    {
      "cell_type": "markdown",
      "source": [
        "# QUES-5\n"
      ],
      "metadata": {
        "id": "QDddSwaTJFpz"
      }
    },
    {
      "cell_type": "code",
      "source": [
        "# WAP to check minimum of 5 numbers (user input)\n",
        "min = 99999\n",
        "for i in range(0,5):\n",
        "    ele = int(input('Enter number: '))\n",
        "    if min > ele:\n",
        "        min = ele\n",
        "print('\\nMinimum is: ',min)"
      ],
      "metadata": {
        "colab": {
          "base_uri": "https://localhost:8080/"
        },
        "id": "_gBuu2EzJLP8",
        "outputId": "7592644d-1615-4a66-f4d4-10d8f0f9fd76"
      },
      "execution_count": 5,
      "outputs": [
        {
          "output_type": "stream",
          "name": "stdout",
          "text": [
            "Enter number: 20\n",
            "Enter number: 30\n",
            "Enter number: 40\n",
            "Enter number: 10\n",
            "Enter number: 15\n",
            "\n",
            "Minimum is:  10\n"
          ]
        }
      ]
    },
    {
      "cell_type": "markdown",
      "source": [
        "# QUES-6"
      ],
      "metadata": {
        "id": "Ae29Sk8EJa08"
      }
    },
    {
      "cell_type": "code",
      "source": [
        "# WAP to convert celsius to farenheit\n",
        "cel = float(input('\\nEnter temperature in celsius: '))\n",
        "faren = ((9/5) * cel) + 32\n",
        "print(cel,'C =',\"{:.2f}\".format(faren),'F\\n')"
      ],
      "metadata": {
        "colab": {
          "base_uri": "https://localhost:8080/"
        },
        "id": "GG_Zog-fJey5",
        "outputId": "34fdf34a-6930-49b3-d7af-daa6322ec873"
      },
      "execution_count": 6,
      "outputs": [
        {
          "output_type": "stream",
          "name": "stdout",
          "text": [
            "\n",
            "Enter temperature in celsius: 37\n",
            "37.0 C = 98.60 F\n",
            "\n"
          ]
        }
      ]
    },
    {
      "cell_type": "markdown",
      "source": [
        "# QUES-7"
      ],
      "metadata": {
        "id": "hbMaXHcPJoT5"
      }
    },
    {
      "cell_type": "code",
      "source": [
        "# Assign 4 string values to variable A,B,C,D. WAP to concatenate the 4 variable with space between 2 subsequent\n",
        "A = \"First\"\n",
        "B = \"Second\"\n",
        "C = \"Third\"\n",
        "D = \"Fourth\"\n",
        "print('\\nConcatenated String:',\" \".join([A,B,C,D]))"
      ],
      "metadata": {
        "colab": {
          "base_uri": "https://localhost:8080/"
        },
        "id": "WQHgqUMWJtcl",
        "outputId": "a05a2115-a916-4c3a-cc68-8b009ba8a1ca"
      },
      "execution_count": 7,
      "outputs": [
        {
          "output_type": "stream",
          "name": "stdout",
          "text": [
            "\n",
            "Concatenated String: First Second Third Fourth\n"
          ]
        }
      ]
    },
    {
      "cell_type": "markdown",
      "source": [
        "# QUES-8"
      ],
      "metadata": {
        "id": "Brr5PEuZJ8Dm"
      }
    },
    {
      "cell_type": "code",
      "source": [
        "# WAP to perform all arithematic operation between two float numbers\n",
        "f1 = float(input('\\nEnter 1st Number: '))\n",
        "f2 = float(input('Enter 2nd Number: '))\n",
        "print('\\nAdd:',\"{:.2f}\".format(f1 + f2))\n",
        "print('Sub:',\"{:.2f}\".format(f1 - f2))\n",
        "print('Mul:',\"{:.2f}\".format(f1 * f2))\n",
        "print('Div:',\"{:.2f}\".format(f1 / f2))\n",
        "print('Mod:',\"{:.2f}\".format(f1 % f2),'\\n')"
      ],
      "metadata": {
        "colab": {
          "base_uri": "https://localhost:8080/"
        },
        "id": "ErngjQ_DKAH_",
        "outputId": "2845653b-5435-4a17-8050-e5826421f153"
      },
      "execution_count": 8,
      "outputs": [
        {
          "output_type": "stream",
          "name": "stdout",
          "text": [
            "\n",
            "Enter 1st Number: 3.7\n",
            "Enter 2nd Number: 2.3\n",
            "\n",
            "Add: 6.00\n",
            "Sub: 1.40\n",
            "Mul: 8.51\n",
            "Div: 1.61\n",
            "Mod: 1.40 \n",
            "\n"
          ]
        }
      ]
    },
    {
      "cell_type": "markdown",
      "source": [
        "# QUES-9"
      ],
      "metadata": {
        "id": "x1Ziqz9kKKix"
      }
    },
    {
      "cell_type": "code",
      "source": [
        "#WAP to take input from user in rupees and find its equivalent in dollar and factorial of it in euro\n",
        "rups=int(input(\"Rupees: \"))\n",
        "dollar = rups * 0.012\n",
        "fac = 1\n",
        "for i in range(1,rups+1):\n",
        "  fac = fac*i\n",
        "euro = fac * 0.011\n",
        "print(\"Dollar: \",dollar)\n",
        "print(\"Euro: \",euro)"
      ],
      "metadata": {
        "colab": {
          "base_uri": "https://localhost:8080/"
        },
        "id": "v9_cL3UpKOGZ",
        "outputId": "49dde387-4cb6-44a7-905a-00abc0d5bc34"
      },
      "execution_count": 14,
      "outputs": [
        {
          "output_type": "stream",
          "name": "stdout",
          "text": [
            "Rupees: 100\n",
            "Dollar:  1.2\n",
            "Euro:  1.0265883698833855e+156\n"
          ]
        }
      ]
    },
    {
      "cell_type": "markdown",
      "source": [
        "# QUES-10"
      ],
      "metadata": {
        "id": "zJRPQ6s_KffK"
      }
    },
    {
      "cell_type": "code",
      "source": [
        "#WAP to print a fibonacci sequence by taking term input from the user\n",
        "n = int(input(\"Number of terms: \"))\n",
        "a=0\n",
        "b=1\n",
        "count=0\n",
        "if n==1:\n",
        "  print(\"Fibonacci Series: \")\n",
        "  print(a)\n",
        "else:\n",
        "  print(\"Fibonacci Series: \")\n",
        "  while count < n:\n",
        "    print(a)\n",
        "    x=a+b\n",
        "    a=b\n",
        "    b=x\n",
        "    count=count+1"
      ],
      "metadata": {
        "colab": {
          "base_uri": "https://localhost:8080/"
        },
        "id": "tYwoXpsUKjps",
        "outputId": "33e737cb-b7c8-418f-d74e-da4970559115"
      },
      "execution_count": 13,
      "outputs": [
        {
          "output_type": "stream",
          "name": "stdout",
          "text": [
            "Number of terms: 6\n",
            "Fibonacci Series: \n",
            "0\n",
            "1\n",
            "1\n",
            "2\n",
            "3\n",
            "5\n"
          ]
        }
      ]
    }
  ]
}