{
 "cells": [
  {
   "cell_type": "code",
   "execution_count": 3,
   "metadata": {},
   "outputs": [
    {
     "name": "stdout",
     "output_type": "stream",
     "text": [
      "Name Archit Kandu\n",
      "Roll No.: 20051924\n"
     ]
    }
   ],
   "source": [
    "def name(n,r):\n",
    "    print('Name',n)\n",
    "    print('Roll No.:',r)\n",
    "\n",
    "n='Archit Kandu'\n",
    "r='20051924'\n",
    "name(n,r)"
   ]
  },
  {
   "cell_type": "code",
   "execution_count": 9,
   "metadata": {},
   "outputs": [
    {
     "name": "stdout",
     "output_type": "stream",
     "text": [
      "Vowels: 4\n",
      "Consonants: 7\n"
     ]
    }
   ],
   "source": [
    "# 1. function to count consonants and vowels in string.\n",
    "def vc(s):\n",
    "    c=0\n",
    "    v=0\n",
    "    s=s.upper()\n",
    "    for i in s:\n",
    "        if i.isalpha():\n",
    "            if i=='A' or i=='E' or i=='I' or i=='O' or i=='U':\n",
    "                v+=1\n",
    "            else:\n",
    "                c+=1\n",
    "    arr=[v,c]\n",
    "    return arr\n",
    "\n",
    "s='Archit Kandu'\n",
    "a=vc(s)\n",
    "print('Vowels:',a[0])\n",
    "print('Consonants:',a[1])"
   ]
  },
  {
   "cell_type": "code",
   "execution_count": 10,
   "metadata": {},
   "outputs": [
    {
     "name": "stdout",
     "output_type": "stream",
     "text": [
      "Area: 154.0\n",
      "Circumference: 44.0\n"
     ]
    }
   ],
   "source": [
    "# 2. function for finding area and circumference by taking radius as i/p.\n",
    "def ac(r):\n",
    "    area=float((22/7)*r*r)\n",
    "    circ=float(2*(22/7)*r)\n",
    "    arr={'a':area,'c':circ}\n",
    "    return arr\n",
    "\n",
    "r=int(input('Enter Radius: '))\n",
    "a=ac(r)\n",
    "print('Area:',a['a'])\n",
    "print('Circumference:',a['c'])"
   ]
  },
  {
   "cell_type": "code",
   "execution_count": 14,
   "metadata": {},
   "outputs": [
    {
     "name": "stdout",
     "output_type": "stream",
     "text": [
      "7 x 1 = 7\n",
      "7 x 2 = 14\n",
      "7 x 3 = 21\n",
      "7 x 4 = 28\n",
      "7 x 5 = 35\n",
      "7 x 6 = 42\n",
      "7 x 7 = 49\n",
      "7 x 8 = 56\n",
      "7 x 9 = 63\n",
      "7 x 10 = 70\n"
     ]
    }
   ],
   "source": [
    "# 3.write a fun that takes any number as i/p and prints a multiplication table of that number.\n",
    "def mul(n):\n",
    "    for i in range(1,11):\n",
    "        print(n,'x',i,'=',n*i)\n",
    "\n",
    "n=int(input('Enter number: '))\n",
    "mul(n)"
   ]
  },
  {
   "cell_type": "code",
   "execution_count": 3,
   "metadata": {},
   "outputs": [
    {
     "name": "stdout",
     "output_type": "stream",
     "text": [
      "( 1 , 3 ) ( 3 , 5 ) ( 5 , 7 ) ( 11 , 13 ) ( 17 , 19 ) "
     ]
    }
   ],
   "source": [
    "# 4.write a program to print twin prime numbers less than 3200.\n",
    "def is_prime(p):\n",
    "    if p==2 or p==3:\n",
    "        return True\n",
    "    for i in range(2,int((p/2)+1)):\n",
    "        if p%i==0 and p!=1:\n",
    "            return False\n",
    "    else:\n",
    "        return True\n",
    "def twin(n):\n",
    "    for i in range(1,n+1):\n",
    "        if is_prime(i) and is_prime(i+2):\n",
    "            print('(',i,',',i+2,')',end=' ')\n",
    "\n",
    "n=int(input('Enter number: '))\n",
    "twin(n)"
   ]
  },
  {
   "cell_type": "code",
   "execution_count": 43,
   "metadata": {},
   "outputs": [
    {
     "name": "stdout",
     "output_type": "stream",
     "text": [
      "Sum of exact factors: 42\n"
     ]
    }
   ],
   "source": [
    "# 5.write a fun Pdiv() that finds the sum of exact factors of a number.\n",
    "def Pdiv(n):\n",
    "    sum=0\n",
    "    for i in range(1,int(n/2)+1):\n",
    "        if n%i==0:\n",
    "            sum+=i\n",
    "    return sum\n",
    "n=int(input('Enter number: '))\n",
    "s=Pdiv(n)+n\n",
    "print('Sum of exact factors:',s)"
   ]
  },
  {
   "cell_type": "code",
   "execution_count": 45,
   "metadata": {},
   "outputs": [
    {
     "name": "stdout",
     "output_type": "stream",
     "text": [
      "Amicable numbers: ( 220 , 284 ) ( 284 , 220 ) "
     ]
    }
   ],
   "source": [
    "# 6.WAP using fun to print pairs of amicable numbers in the range , range is taken as i/p. If 2 num have equal Pdiv(), then amicable.\n",
    "def Pdiv(n):\n",
    "    sum=0\n",
    "    for i in range(1,int(n/2)+1):\n",
    "        if n%i==0:\n",
    "            sum+=i\n",
    "    return sum\n",
    "def amicable(n,m):\n",
    "    print('Amicable numbers: ',end='')\n",
    "    for i in range(n,m+1):\n",
    "        for j in range(n,m+1):\n",
    "            if Pdiv(i)==j and Pdiv(j)==i and i!=j:\n",
    "                print('(',i,',',j,')',end=' ')\n",
    "n=int(input('Enter start: '))\n",
    "m=int(input('Enter end: '))\n",
    "amicable(n,m)"
   ]
  },
  {
   "cell_type": "code",
   "execution_count": 26,
   "metadata": {},
   "outputs": [
    {
     "name": "stdout",
     "output_type": "stream",
     "text": [
      "5 IS PRESENT\n"
     ]
    }
   ],
   "source": [
    "# 7. define a fun that accepts the roll no and returns whether the student is present or absent. i/p- list of roll no\n",
    "def present(r,arr):\n",
    "    if r in arr:\n",
    "        print(r,'IS PRESENT')\n",
    "    else:\n",
    "        print(r,'IS ABSENT')\n",
    "\n",
    "n=int(input('Enter Number of Students: '))\n",
    "l1=[]\n",
    "for i in range(0,n):\n",
    "    t=int(input('Enter a Roll No.: '))\n",
    "    l1.append(t)\n",
    "r=int(input('Enter Roll to Search: '))\n",
    "present(r,l1)"
   ]
  },
  {
   "cell_type": "code",
   "execution_count": 27,
   "metadata": {},
   "outputs": [
    {
     "name": "stdout",
     "output_type": "stream",
     "text": [
      "RESULT: archit\n"
     ]
    }
   ],
   "source": [
    "# 8. define a fun which accepts upper case letters and return lower case letters.\n",
    "def uplow(s):\n",
    "    rs=s.upper()\n",
    "    if s==rs:\n",
    "        return s.lower()\n",
    "    else:\n",
    "        return -1\n",
    "\n",
    "s=input('Enter string in uppercase: ')\n",
    "result=uplow(s)\n",
    "if result== -1:\n",
    "    print('INCORRECT INPUT!')\n",
    "else:\n",
    "    print('RESULT:',result)"
   ]
  },
  {
   "cell_type": "code",
   "execution_count": 34,
   "metadata": {},
   "outputs": [
    {
     "name": "stdout",
     "output_type": "stream",
     "text": [
      "SUM of odd places digits of number: 153\n"
     ]
    }
   ],
   "source": [
    "# 9. write a fun scube() to find the sum of the cube of odd places digits of a number.\n",
    "def scube(s):\n",
    "    sum=0\n",
    "    for i in range(0,len(s)+1):\n",
    "        if i%2!=0:\n",
    "            t=int(i)\n",
    "            sum+=t**3\n",
    "    print('SUM of odd places digits of number:',sum)\n",
    "s=input('Enter Number: ')\n",
    "scube(s)"
   ]
  },
  {
   "cell_type": "code",
   "execution_count": 31,
   "metadata": {},
   "outputs": [
    {
     "name": "stdout",
     "output_type": "stream",
     "text": [
      "Factorial: 5 x 4 x 3 x 2 x 1\n",
      "Exponent: 125\n"
     ]
    }
   ],
   "source": [
    "# 10. write a fun to find factorial and m exponent of a number.\n",
    "def facm(n,m):\n",
    "    print('Factorial:',end=' ')\n",
    "    for i in reversed(range(1,n+1)):\n",
    "        if i!=1:\n",
    "            print(i,end=' x ')\n",
    "        else:\n",
    "            print(i)\n",
    "    print('Exponent:',n**m)\n",
    "n=int(input('Enter number: '))\n",
    "m=int(input('Enter exponent: '))\n",
    "facm(n,m)"
   ]
  }
 ],
 "metadata": {
  "kernelspec": {
   "display_name": "base",
   "language": "python",
   "name": "python3"
  },
  "language_info": {
   "codemirror_mode": {
    "name": "ipython",
    "version": 3
   },
   "file_extension": ".py",
   "mimetype": "text/x-python",
   "name": "python",
   "nbconvert_exporter": "python",
   "pygments_lexer": "ipython3",
   "version": "3.9.13"
  },
  "orig_nbformat": 4
 },
 "nbformat": 4,
 "nbformat_minor": 2
}
