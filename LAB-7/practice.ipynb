{
 "cells": [
  {
   "cell_type": "code",
   "execution_count": 3,
   "metadata": {},
   "outputs": [
    {
     "name": "stdout",
     "output_type": "stream",
     "text": [
      "Name Archit Kandu\n",
      "Roll No.: 20051924\n"
     ]
    }
   ],
   "source": [
    "def name(n,r):\n",
    "    print('Name',n)\n",
    "    print('Roll No.:',r)\n",
    "\n",
    "n='Archit Kandu'\n",
    "r='20051924'\n",
    "name(n,r)"
   ]
  },
  {
   "cell_type": "code",
   "execution_count": 9,
   "metadata": {},
   "outputs": [
    {
     "name": "stdout",
     "output_type": "stream",
     "text": [
      "Vowels: 4\n",
      "Consonants: 7\n"
     ]
    }
   ],
   "source": [
    "# 1. function to count consonants and vowels in string.\n",
    "def vc(s):\n",
    "    c=0\n",
    "    v=0\n",
    "    s=s.upper()\n",
    "    for i in s:\n",
    "        if i.isalpha():\n",
    "            if i=='A' or i=='E' or i=='I' or i=='O' or i=='U':\n",
    "                v+=1\n",
    "            else:\n",
    "                c+=1\n",
    "    arr=[v,c]\n",
    "    return arr\n",
    "\n",
    "s='Archit Kandu'\n",
    "a=vc(s)\n",
    "print('Vowels:',a[0])\n",
    "print('Consonants:',a[1])"
   ]
  },
  {
   "cell_type": "code",
   "execution_count": 10,
   "metadata": {},
   "outputs": [
    {
     "name": "stdout",
     "output_type": "stream",
     "text": [
      "Area: 154.0\n",
      "Circumference: 44.0\n"
     ]
    }
   ],
   "source": [
    "# 2. function for finding area and circumference by taking radius as i/p.\n",
    "def ac(r):\n",
    "    area=float((22/7)*r*r)\n",
    "    circ=float(2*(22/7)*r)\n",
    "    arr={'a':area,'c':circ}\n",
    "    return arr\n",
    "\n",
    "r=int(input('Enter Radius: '))\n",
    "a=ac(r)\n",
    "print('Area:',a['a'])\n",
    "print('Circumference:',a['c'])"
   ]
  },
  {
   "cell_type": "code",
   "execution_count": null,
   "metadata": {},
   "outputs": [],
   "source": [
    "# 3.write a fun that takes any number as i/p and prints a multiplication table of that number."
   ]
  },
  {
   "cell_type": "code",
   "execution_count": null,
   "metadata": {},
   "outputs": [],
   "source": [
    "# 4.write a program to print twin prime numbers less than 3200."
   ]
  },
  {
   "cell_type": "code",
   "execution_count": null,
   "metadata": {},
   "outputs": [],
   "source": [
    "# 5.write a fun Pdiv() that finds the sum of exact factors of a number."
   ]
  },
  {
   "cell_type": "code",
   "execution_count": null,
   "metadata": {},
   "outputs": [],
   "source": [
    "# 6.WAP using fun to print pairs of amicable numbers in the range , range is taken as i/p. If 2 num have equal Pdiv(), then amicable."
   ]
  },
  {
   "cell_type": "code",
   "execution_count": null,
   "metadata": {},
   "outputs": [],
   "source": [
    "# 7. define a fun that accepts the roll no and returns whether the student is present or absent. i/p- list of roll no"
   ]
  },
  {
   "cell_type": "code",
   "execution_count": null,
   "metadata": {},
   "outputs": [],
   "source": [
    "# 8. define a fun which accepts upper case letters and return lower case letters."
   ]
  },
  {
   "cell_type": "code",
   "execution_count": null,
   "metadata": {},
   "outputs": [],
   "source": [
    "# 9. write a fun scube() to find the sum of the cube of odd places digits of a number."
   ]
  },
  {
   "cell_type": "code",
   "execution_count": null,
   "metadata": {},
   "outputs": [],
   "source": [
    "# 10. write a fun to find factorial and m exponent of a number."
   ]
  }
 ],
 "metadata": {
  "kernelspec": {
   "display_name": "base",
   "language": "python",
   "name": "python3"
  },
  "language_info": {
   "codemirror_mode": {
    "name": "ipython",
    "version": 3
   },
   "file_extension": ".py",
   "mimetype": "text/x-python",
   "name": "python",
   "nbconvert_exporter": "python",
   "pygments_lexer": "ipython3",
   "version": "3.9.13"
  },
  "orig_nbformat": 4
 },
 "nbformat": 4,
 "nbformat_minor": 2
}
