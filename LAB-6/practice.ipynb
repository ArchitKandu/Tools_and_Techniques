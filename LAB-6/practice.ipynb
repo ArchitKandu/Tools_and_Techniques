{
 "cells": [
  {
   "cell_type": "code",
   "execution_count": 2,
   "metadata": {},
   "outputs": [
    {
     "name": "stdout",
     "output_type": "stream",
     "text": [
      "{'Roll': 20051924, 'Name': 'Archit Kandu', 'Section': 'CSE-5'}\n",
      "Archit Kandu\n",
      "{'Roll': 1924, 'Name': 'Archit Kandu', 'Section': 'CSE-5'}\n",
      "1924\n",
      "Archit Kandu\n",
      "CSE-5\n",
      "{'Roll': 1924, 'Name': 'Archit Kandu', 'Section': 'CSE-5'}\n"
     ]
    }
   ],
   "source": [
    "student={'Roll':20051924,'Name':'Archit Kandu','Section':'CSE-5'}\n",
    "print(student)\n",
    "print(student['Name'])\n",
    "student.update({'Roll':1924})\n",
    "print(student)\n",
    "for x in student:\n",
    "    print(student[x])\n",
    "dic=student.copy()\n",
    "print(dic)"
   ]
  }
 ],
 "metadata": {
  "kernelspec": {
   "display_name": "base",
   "language": "python",
   "name": "python3"
  },
  "language_info": {
   "codemirror_mode": {
    "name": "ipython",
    "version": 3
   },
   "file_extension": ".py",
   "mimetype": "text/x-python",
   "name": "python",
   "nbconvert_exporter": "python",
   "pygments_lexer": "ipython3",
   "version": "3.9.13"
  },
  "orig_nbformat": 4,
  "vscode": {
   "interpreter": {
    "hash": "2ada099663b50d034f08b15c6ef1c253ee8bd63513a7db99708921041d290f80"
   }
  }
 },
 "nbformat": 4,
 "nbformat_minor": 2
}
