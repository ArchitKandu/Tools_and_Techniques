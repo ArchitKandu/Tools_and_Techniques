{
 "cells": [
  {
   "cell_type": "code",
   "execution_count": 1,
   "metadata": {},
   "outputs": [
    {
     "name": "stdout",
     "output_type": "stream",
     "text": [
      "{'Roll': 20051924, 'Name': 'Archit Kandu', 'Section': 'CSE-5'}\n",
      "Archit Kandu\n",
      "{'Roll': 1924, 'Name': 'Archit Kandu', 'Section': 'CSE-5'}\n",
      "1924\n",
      "Archit Kandu\n",
      "CSE-5\n",
      "{'Roll': 1924, 'Name': 'Archit Kandu', 'Section': 'CSE-5'}\n"
     ]
    }
   ],
   "source": [
    "student={'Roll':20051924,'Name':'Archit Kandu','Section':'CSE-5'}\n",
    "print(student)\n",
    "print(student['Name'])\n",
    "student.update({'Roll':1924})\n",
    "print(student)\n",
    "for x in student:\n",
    "    print(student[x])\n",
    "dic=student.copy()\n",
    "print(dic)"
   ]
  },
  {
   "cell_type": "code",
   "execution_count": 2,
   "metadata": {},
   "outputs": [
    {
     "name": "stdout",
     "output_type": "stream",
     "text": [
      "Original: {'Roll5': 1005, 'Roll1': 1001, 'Roll3': 1003, 'Roll4': 1004, 'Roll2': 1002}\n",
      "Ascending: {'Roll1': 1001, 'Roll2': 1002, 'Roll3': 1003, 'Roll4': 1004, 'Roll5': 1005}\n",
      "Descending: {'Roll5': 1005, 'Roll4': 1004, 'Roll3': 1003, 'Roll2': 1002, 'Roll1': 1001}\n"
     ]
    }
   ],
   "source": [
    "# 1. Write a Python script to sort (ascending and descending) a dictionary by value.\n",
    "values={'Roll5':1005,'Roll1':1001,'Roll3':1003,'Roll4':1004,'Roll2':1002}\n",
    "sorted_values={}\n",
    "print('Original:',values)\n",
    "l1=list(values.values())\n",
    "l1.sort()\n",
    "for i in l1:\n",
    "    for k in values.keys():\n",
    "        if values[k]==i:\n",
    "            sorted_values[k]=i\n",
    "print('Ascending:',sorted_values)\n",
    "rsorted_values=dict(reversed(list(sorted_values.items())))\n",
    "print('Descending:',rsorted_values)"
   ]
  },
  {
   "cell_type": "code",
   "execution_count": 3,
   "metadata": {},
   "outputs": [
    {
     "name": "stdout",
     "output_type": "stream",
     "text": [
      "{'Roll5': 1005, 'Roll1': 1001, 'Roll3': 1003, 'Roll4': 1004, 'Roll2': 1002}\n"
     ]
    }
   ],
   "source": [
    "# 2. Write a Python script to concatenate two dictionaries to create a new one.\n",
    "dic1={'Roll5':1005,'Roll1':1001}\n",
    "dic2={'Roll3':1003,'Roll4':1004,'Roll2':1002}\n",
    "dic3=dic1|dic2\n",
    "print(dic3)"
   ]
  },
  {
   "cell_type": "code",
   "execution_count": 4,
   "metadata": {},
   "outputs": [
    {
     "name": "stdout",
     "output_type": "stream",
     "text": [
      "Dictionary: {'Roll5': 1005, 'Roll1': 1001, 'Roll3': 1003, 'Roll4': 1004, 'Roll2': 1002}\n",
      "After Removing: {'Roll1': 1001, 'Roll3': 1003, 'Roll4': 1004, 'Roll2': 1002}\n"
     ]
    }
   ],
   "source": [
    "# 3. Write a Python program to remove a key from a dictionary.\n",
    "dic={'Roll5':1005,'Roll1':1001,'Roll3':1003,'Roll4':1004,'Roll2':1002}\n",
    "print('Dictionary:',dic)\n",
    "l1=list(dic.items())\n",
    "l2=[]\n",
    "k=input('Enter Key: ')\n",
    "for i in l1:\n",
    "    if i[0]!=k:\n",
    "        l2.append(i)\n",
    "new_dic=dict(l2)\n",
    "print('After Removing:',new_dic)"
   ]
  },
  {
   "cell_type": "code",
   "execution_count": 5,
   "metadata": {},
   "outputs": [
    {
     "name": "stdout",
     "output_type": "stream",
     "text": [
      "Original: {'Roll1': 1001, 'Roll5': 1001, 'Roll3': 1003, 'Roll2': 1002, 'Roll4': 1002}\n",
      "Result: {'Roll1': 1001, 'Roll3': 1003, 'Roll2': 1002}\n"
     ]
    }
   ],
   "source": [
    "# 4. Write a Python program to remove duplicates from Dictionary.\n",
    "dic={'Roll1':1001,'Roll5':1001,'Roll3':1003,'Roll2':1002,'Roll4':1002}\n",
    "result={}\n",
    "print('Original:',dic)\n",
    "for key,value in dic.items():\n",
    "    if value not in result.values():\n",
    "        result[key]=value\n",
    "print('Result:',str(result))"
   ]
  },
  {
   "cell_type": "code",
   "execution_count": 6,
   "metadata": {},
   "outputs": [
    {
     "name": "stdout",
     "output_type": "stream",
     "text": [
      "Original:\n",
      "{'Roll1': 1001, 'Roll2': 1002, 'Roll3': 1003}\n",
      "{'Roll2': 1005, 'Roll3': 1004}\n",
      "Result: {'Roll1': 1001, 'Roll2': 2007, 'Roll3': 2007}\n"
     ]
    }
   ],
   "source": [
    "# 5. Write a Python program to combine two dictionary adding values for common keys.\n",
    "dic1={'Roll1':1001,'Roll2':1002,'Roll3':1003}\n",
    "dic2={'Roll2':1005,'Roll3':1004}\n",
    "result={}\n",
    "print('Original:')\n",
    "print(dic1)\n",
    "print(dic2)\n",
    "for key,value in dic1.items():\n",
    "    if key in dic2:\n",
    "        result[key]=value+dic2[key]\n",
    "    else:\n",
    "        result[key]=value\n",
    "print('Result:',result)"
   ]
  },
  {
   "cell_type": "code",
   "execution_count": 7,
   "metadata": {},
   "outputs": [
    {
     "name": "stdout",
     "output_type": "stream",
     "text": [
      "Top 3 Highest:\n",
      "Roll5 , 1005\n",
      "Roll4 , 1004\n",
      "Roll3 , 1003\n"
     ]
    }
   ],
   "source": [
    "# 6. Write a Python program to find the highest 3 values of corresponding keys in a dictionary.\n",
    "values={'Roll5':1005,'Roll1':1001,'Roll3':1003,'Roll4':1004,'Roll2':1002}\n",
    "sorted_values={}\n",
    "l1=list(values.values())\n",
    "l1.sort()\n",
    "for i in l1:\n",
    "    for k in values.keys():\n",
    "        if values[k]==i:\n",
    "            sorted_values[k]=i\n",
    "sorted_values=dict(reversed(list(sorted_values.items())))\n",
    "count=1\n",
    "print('Top 3 Highest:')\n",
    "for i in sorted_values:\n",
    "    if count<=3:\n",
    "        print(i,',',sorted_values[i])\n",
    "        count+=1"
   ]
  },
  {
   "cell_type": "code",
   "execution_count": 8,
   "metadata": {},
   "outputs": [
    {
     "name": "stdout",
     "output_type": "stream",
     "text": [
      "Original: {'Name': 'Archit Kandu', 'Roll': 20051924, 'Course': {'Specialization': 'B. Tech', 'Branch': 'CS'}}\n",
      "After Updation: {'Name': 'Archit Kandu', 'Roll': 20051924, 'Course': {'Specialization': 'B. Tech', 'Branch': 'CSE'}}\n"
     ]
    }
   ],
   "source": [
    "# 7. WAP TO Change value of a key in a nested dictionary\n",
    "student = {\n",
    "    'Name': 'Archit Kandu',\n",
    "    'Roll': 20051924,\n",
    "    'Course': {\n",
    "        'Specialization': 'B. Tech',\n",
    "        'Branch': 'CS',\n",
    "    }\n",
    "}\n",
    "print('Original:',student)\n",
    "student['Course']['Branch'] = 'CSE'\n",
    "print('After Updation:',student)"
   ]
  },
  {
   "cell_type": "code",
   "execution_count": 9,
   "metadata": {},
   "outputs": [
    {
     "name": "stdout",
     "output_type": "stream",
     "text": [
      "Sum: 5015\n"
     ]
    }
   ],
   "source": [
    "# 8. Write a program to sum all the values of a dictionary.\n",
    "dic={'Roll5':1005,'Roll1':1001,'Roll3':1003,'Roll4':1004,'Roll2':1002}\n",
    "sum=0\n",
    "for i in dic.values():\n",
    "    sum+=i\n",
    "print('Sum:',sum)"
   ]
  },
  {
   "cell_type": "code",
   "execution_count": 10,
   "metadata": {},
   "outputs": [
    {
     "name": "stdout",
     "output_type": "stream",
     "text": [
      "{1: 1, 2: 4, 3: 9, 4: 16, 5: 25}\n"
     ]
    }
   ],
   "source": [
    "# 9. Write a Python script to print a dictionary where the keys are numbers between 1 and n (both included) and the \n",
    "# values are square of keys.\n",
    "n=int(input('Enter n: '))\n",
    "ndic={}\n",
    "for i in range(1,n+1):\n",
    "    ndic[i]=i*i\n",
    "print(ndic)"
   ]
  },
  {
   "cell_type": "code",
   "execution_count": 11,
   "metadata": {},
   "outputs": [
    {
     "name": "stdout",
     "output_type": "stream",
     "text": [
      "Maximum: 1005\n",
      "Minimum: 1001\n"
     ]
    }
   ],
   "source": [
    "# 10. Write a program to get the maximum and minimum value of dictionary.\n",
    "dic={'Roll5':1005,'Roll1':1001,'Roll3':1003,'Roll4':1004,'Roll2':1002}\n",
    "l1=list(dic.values())\n",
    "print('Maximum:',max(l1))\n",
    "print('Minimum:',min(l1))"
   ]
  }
 ],
 "metadata": {
  "kernelspec": {
   "display_name": "base",
   "language": "python",
   "name": "python3"
  },
  "language_info": {
   "codemirror_mode": {
    "name": "ipython",
    "version": 3
   },
   "file_extension": ".py",
   "mimetype": "text/x-python",
   "name": "python",
   "nbconvert_exporter": "python",
   "pygments_lexer": "ipython3",
   "version": "3.9.13"
  },
  "orig_nbformat": 4,
  "vscode": {
   "interpreter": {
    "hash": "2ada099663b50d034f08b15c6ef1c253ee8bd63513a7db99708921041d290f80"
   }
  }
 },
 "nbformat": 4,
 "nbformat_minor": 2
}
